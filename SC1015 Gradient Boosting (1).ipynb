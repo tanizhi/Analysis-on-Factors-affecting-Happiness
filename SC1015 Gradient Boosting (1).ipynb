{
 "cells": [
  {
   "cell_type": "code",
   "execution_count": 1,
   "id": "47c81ec8",
   "metadata": {},
   "outputs": [],
   "source": [
    "# Basic Libraries\n",
    "import numpy as np\n",
    "import pandas as pd\n",
    "import seaborn as sb\n",
    "import matplotlib.pyplot as plt # we only need pyplot\n",
    "sb.set() # set the default Seaborn style for graphics\n",
    "\n",
    "# Import essential models and functions from sklearn\n",
    "from sklearn.linear_model import LinearRegression\n",
    "from sklearn.model_selection import train_test_split\n",
    "from sklearn.metrics import mean_squared_error, r2_score\n",
    "from sklearn.metrics import explained_variance_score, mean_squared_error\n",
    "from sklearn.ensemble import GradientBoostingRegressor"
   ]
  },
  {
   "cell_type": "markdown",
   "id": "0403bbea",
   "metadata": {},
   "source": [
    "## Gradient Boosting (GDP_PER_CAPITA)"
   ]
  },
  {
   "cell_type": "code",
   "execution_count": 2,
   "id": "989195ce",
   "metadata": {},
   "outputs": [
    {
     "name": "stdout",
     "output_type": "stream",
     "text": [
      "Mean squared error: 0.4415\n",
      "R2 score: 0.6453\n",
      "Explained variance score: 0.6483\n"
     ]
    }
   ],
   "source": [
    "# Load the dataset\n",
    "df = pd.read_csv('final_version_dataset.csv')\n",
    "\n",
    "# Select the feature variables and target variable\n",
    "X = df[['GDP_PER_CAPITA']]\n",
    "y = df['HAPPINESS_SCORE']\n",
    "\n",
    "# Split the dataset into training and testing sets\n",
    "X_train, X_test, y_train, y_test = train_test_split(X, y, test_size=0.2, random_state=42)\n",
    "\n",
    "# Create a gradient boosting regressor object\n",
    "gbr = GradientBoostingRegressor(learning_rate=0.1, n_estimators=100, random_state=42)\n",
    "\n",
    "# Fit the model to the training data\n",
    "gbr.fit(X_train, y_train)\n",
    "\n",
    "# Make predictions on the testing data\n",
    "y_pred = gbr.predict(X_test)\n",
    "\n",
    "# Evaluate the model\n",
    "mse = mean_squared_error(y_test, y_pred)\n",
    "r2 = r2_score(y_test, y_pred)\n",
    "evs = explained_variance_score(y_test, y_pred)\n",
    "\n",
    "# Round the evaluation metrics to 4 decimal places\n",
    "mse_rounded = round(mse, 4)\n",
    "r2_rounded = round(r2, 4)\n",
    "evs_rounded = round(evs, 4)\n",
    "\n",
    "# Print the evaluation metrics with 4 decimal places\n",
    "print('Mean squared error:', mse_rounded)\n",
    "print('R2 score:', r2_rounded)\n",
    "print('Explained variance score:', evs_rounded)"
   ]
  },
  {
   "cell_type": "markdown",
   "id": "cb43a42e",
   "metadata": {},
   "source": [
    "## Gradient Boosting (SOCIAL_SUPPORT)"
   ]
  },
  {
   "cell_type": "code",
   "execution_count": 3,
   "id": "fdca84e4",
   "metadata": {},
   "outputs": [
    {
     "name": "stdout",
     "output_type": "stream",
     "text": [
      "Mean squared error: 0.52\n",
      "R2 score: 0.5822\n",
      "Explained variance score: 0.5863\n"
     ]
    }
   ],
   "source": [
    "# Load the dataset\n",
    "df = pd.read_csv('final_version_dataset.csv')\n",
    "\n",
    "# Select the feature variables and target variable\n",
    "X = df[['SOCIAL_SUPPORT']]\n",
    "y = df['HAPPINESS_SCORE']\n",
    "\n",
    "# Split the dataset into training and testing sets\n",
    "X_train, X_test, y_train, y_test = train_test_split(X, y, test_size=0.2, random_state=42)\n",
    "\n",
    "# Create a gradient boosting regressor object\n",
    "gbr = GradientBoostingRegressor(learning_rate=0.1, n_estimators=100, random_state=42)\n",
    "\n",
    "# Fit the model to the training data\n",
    "gbr.fit(X_train, y_train)\n",
    "\n",
    "# Make predictions on the testing data\n",
    "y_pred = gbr.predict(X_test)\n",
    "\n",
    "# Evaluate the model\n",
    "mse = mean_squared_error(y_test, y_pred)\n",
    "r2 = r2_score(y_test, y_pred)\n",
    "evs = explained_variance_score(y_test, y_pred)\n",
    "\n",
    "# Round the evaluation metrics to 4 decimal places\n",
    "mse_rounded = round(mse, 4)\n",
    "r2_rounded = round(r2, 4)\n",
    "evs_rounded = round(evs, 4)\n",
    "\n",
    "# Print the evaluation metrics with 4 decimal places\n",
    "print('Mean squared error:', mse_rounded)\n",
    "print('R2 score:', r2_rounded)\n",
    "print('Explained variance score:', evs_rounded)"
   ]
  },
  {
   "cell_type": "markdown",
   "id": "f0895f04",
   "metadata": {},
   "source": [
    "## Gradient Boosting (LIFE_EXPECTANCY)"
   ]
  },
  {
   "cell_type": "code",
   "execution_count": 4,
   "id": "3b7cfd31",
   "metadata": {},
   "outputs": [
    {
     "name": "stdout",
     "output_type": "stream",
     "text": [
      "Mean squared error: 0.5194\n",
      "R2 score: 0.5828\n",
      "Explained variance score: 0.5904\n"
     ]
    }
   ],
   "source": [
    "# Load the dataset\n",
    "df = pd.read_csv('final_version_dataset.csv')\n",
    "\n",
    "# Select the feature variables and target variable\n",
    "X = df[['LIFE_EXPECTANCY']]\n",
    "y = df['HAPPINESS_SCORE']\n",
    "\n",
    "# Split the dataset into training and testing sets\n",
    "X_train, X_test, y_train, y_test = train_test_split(X, y, test_size=0.2, random_state=42)\n",
    "\n",
    "# Create a gradient boosting regressor object\n",
    "gbr = GradientBoostingRegressor(learning_rate=0.1, n_estimators=100, random_state=42)\n",
    "\n",
    "# Fit the model to the training data\n",
    "gbr.fit(X_train, y_train)\n",
    "\n",
    "# Make predictions on the testing data\n",
    "y_pred = gbr.predict(X_test)\n",
    "\n",
    "# Evaluate the model\n",
    "mse = mean_squared_error(y_test, y_pred)\n",
    "r2 = r2_score(y_test, y_pred)\n",
    "evs = explained_variance_score(y_test, y_pred)\n",
    "\n",
    "# Round the evaluation metrics to 4 decimal places\n",
    "mse_rounded = round(mse, 4)\n",
    "r2_rounded = round(r2, 4)\n",
    "evs_rounded = round(evs, 4)\n",
    "\n",
    "# Print the evaluation metrics with 4 decimal places\n",
    "print('Mean squared error:', mse_rounded)\n",
    "print('R2 score:', r2_rounded)\n",
    "print('Explained variance score:', evs_rounded)"
   ]
  },
  {
   "cell_type": "markdown",
   "id": "e6e1f7a1",
   "metadata": {},
   "source": [
    "## Multi-variate Gradient Boosting"
   ]
  },
  {
   "cell_type": "code",
   "execution_count": 5,
   "id": "f9b5c9eb",
   "metadata": {},
   "outputs": [
    {
     "name": "stdout",
     "output_type": "stream",
     "text": [
      "Mean squared error: 0.3499\n",
      "R2 score: 0.7189\n",
      "Explained variance score: 0.7214\n"
     ]
    }
   ],
   "source": [
    "# Load the dataset\n",
    "df = pd.read_csv('final_version_dataset.csv')\n",
    "\n",
    "# Select the feature variables and target variable\n",
    "X = df[['GDP_PER_CAPITA','SOCIAL_SUPPORT','LIFE_EXPECTANCY']]\n",
    "y = df['HAPPINESS_SCORE']\n",
    "\n",
    "# Split the dataset into training and testing sets\n",
    "X_train, X_test, y_train, y_test = train_test_split(X, y, test_size=0.2, random_state=42)\n",
    "\n",
    "# Create a gradient boosting regressor object\n",
    "gbr = GradientBoostingRegressor(learning_rate=0.1, n_estimators=100, random_state=42)\n",
    "\n",
    "# Fit the model to the training data\n",
    "gbr.fit(X_train, y_train)\n",
    "\n",
    "# Make predictions on the testing data\n",
    "y_pred = gbr.predict(X_test)\n",
    "\n",
    "# Evaluate the model\n",
    "mse = mean_squared_error(y_test, y_pred)\n",
    "r2 = r2_score(y_test, y_pred)\n",
    "evs = explained_variance_score(y_test, y_pred)\n",
    "\n",
    "# Round the evaluation metrics to 4 decimal places\n",
    "mse_rounded = round(mse, 4)\n",
    "r2_rounded = round(r2, 4)\n",
    "evs_rounded = round(evs, 4)\n",
    "\n",
    "# Print the evaluation metrics with 4 decimal places\n",
    "print('Mean squared error:', mse_rounded)\n",
    "print('R2 score:', r2_rounded)\n",
    "print('Explained variance score:', evs_rounded)"
   ]
  },
  {
   "cell_type": "code",
   "execution_count": null,
   "id": "2979ede4",
   "metadata": {},
   "outputs": [],
   "source": []
  }
 ],
 "metadata": {
  "kernelspec": {
   "display_name": "Python 3 (ipykernel)",
   "language": "python",
   "name": "python3"
  },
  "language_info": {
   "codemirror_mode": {
    "name": "ipython",
    "version": 3
   },
   "file_extension": ".py",
   "mimetype": "text/x-python",
   "name": "python",
   "nbconvert_exporter": "python",
   "pygments_lexer": "ipython3",
   "version": "3.9.12"
  }
 },
 "nbformat": 4,
 "nbformat_minor": 5
}
