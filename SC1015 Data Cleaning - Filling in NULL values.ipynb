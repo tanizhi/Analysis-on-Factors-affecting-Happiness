{
 "cells": [
  {
   "cell_type": "code",
   "execution_count": 50,
   "id": "3dc18161",
   "metadata": {},
   "outputs": [],
   "source": [
    "# Basic Libraries\n",
    "import numpy as np\n",
    "import pandas as pd\n",
    "import seaborn as sb\n",
    "import matplotlib.pyplot as plt # we only need pyplot\n",
    "sb.set() # set the default Seaborn style for graphics"
   ]
  },
  {
   "cell_type": "code",
   "execution_count": 51,
   "id": "6741830e",
   "metadata": {},
   "outputs": [
    {
     "data": {
      "text/html": [
       "<div>\n",
       "<style scoped>\n",
       "    .dataframe tbody tr th:only-of-type {\n",
       "        vertical-align: middle;\n",
       "    }\n",
       "\n",
       "    .dataframe tbody tr th {\n",
       "        vertical-align: top;\n",
       "    }\n",
       "\n",
       "    .dataframe thead th {\n",
       "        text-align: right;\n",
       "    }\n",
       "</style>\n",
       "<table border=\"1\" class=\"dataframe\">\n",
       "  <thead>\n",
       "    <tr style=\"text-align: right;\">\n",
       "      <th></th>\n",
       "      <th>HAPPINESS_SCORE</th>\n",
       "      <th>GDP_PER_CAPITA</th>\n",
       "      <th>FAMILY</th>\n",
       "      <th>LIFE_EXPECTANCY</th>\n",
       "      <th>FREEDOM</th>\n",
       "      <th>GENEROSITY</th>\n",
       "      <th>GOVERNMENT_TRUST</th>\n",
       "      <th>DYSTOPIA_RESIDUAL</th>\n",
       "      <th>SOCIAL_SUPPORT</th>\n",
       "    </tr>\n",
       "  </thead>\n",
       "  <tbody>\n",
       "    <tr>\n",
       "      <th>0</th>\n",
       "      <td>7.537</td>\n",
       "      <td>1.616463</td>\n",
       "      <td>1.533524</td>\n",
       "      <td>0.796667</td>\n",
       "      <td>0.635423</td>\n",
       "      <td>0.362012</td>\n",
       "      <td>0.315964</td>\n",
       "      <td>2.277027</td>\n",
       "      <td>NaN</td>\n",
       "    </tr>\n",
       "    <tr>\n",
       "      <th>1</th>\n",
       "      <td>7.522</td>\n",
       "      <td>1.482383</td>\n",
       "      <td>1.551122</td>\n",
       "      <td>0.792566</td>\n",
       "      <td>0.626007</td>\n",
       "      <td>0.355280</td>\n",
       "      <td>0.400770</td>\n",
       "      <td>2.313707</td>\n",
       "      <td>NaN</td>\n",
       "    </tr>\n",
       "    <tr>\n",
       "      <th>2</th>\n",
       "      <td>7.504</td>\n",
       "      <td>1.480633</td>\n",
       "      <td>1.610574</td>\n",
       "      <td>0.833552</td>\n",
       "      <td>0.627163</td>\n",
       "      <td>0.475540</td>\n",
       "      <td>0.153527</td>\n",
       "      <td>2.322715</td>\n",
       "      <td>NaN</td>\n",
       "    </tr>\n",
       "    <tr>\n",
       "      <th>3</th>\n",
       "      <td>7.494</td>\n",
       "      <td>1.564980</td>\n",
       "      <td>1.516912</td>\n",
       "      <td>0.858131</td>\n",
       "      <td>0.620071</td>\n",
       "      <td>0.290549</td>\n",
       "      <td>0.367007</td>\n",
       "      <td>2.276716</td>\n",
       "      <td>NaN</td>\n",
       "    </tr>\n",
       "    <tr>\n",
       "      <th>4</th>\n",
       "      <td>7.469</td>\n",
       "      <td>1.443572</td>\n",
       "      <td>1.540247</td>\n",
       "      <td>0.809158</td>\n",
       "      <td>0.617951</td>\n",
       "      <td>0.245483</td>\n",
       "      <td>0.382612</td>\n",
       "      <td>2.430182</td>\n",
       "      <td>NaN</td>\n",
       "    </tr>\n",
       "  </tbody>\n",
       "</table>\n",
       "</div>"
      ],
      "text/plain": [
       "   HAPPINESS_SCORE  GDP_PER_CAPITA    FAMILY  LIFE_EXPECTANCY   FREEDOM  \\\n",
       "0            7.537        1.616463  1.533524         0.796667  0.635423   \n",
       "1            7.522        1.482383  1.551122         0.792566  0.626007   \n",
       "2            7.504        1.480633  1.610574         0.833552  0.627163   \n",
       "3            7.494        1.564980  1.516912         0.858131  0.620071   \n",
       "4            7.469        1.443572  1.540247         0.809158  0.617951   \n",
       "\n",
       "   GENEROSITY  GOVERNMENT_TRUST  DYSTOPIA_RESIDUAL  SOCIAL_SUPPORT  \n",
       "0    0.362012          0.315964           2.277027             NaN  \n",
       "1    0.355280          0.400770           2.313707             NaN  \n",
       "2    0.475540          0.153527           2.322715             NaN  \n",
       "3    0.290549          0.367007           2.276716             NaN  \n",
       "4    0.245483          0.382612           2.430182             NaN  "
      ]
     },
     "execution_count": 51,
     "metadata": {},
     "output_type": "execute_result"
    }
   ],
   "source": [
    "# Importing the new CSV file\n",
    "Report = pd.read_csv('combined_happiness_report_cleaned.csv')\n",
    "Report.head()"
   ]
  },
  {
   "cell_type": "code",
   "execution_count": 52,
   "id": "d4da5842",
   "metadata": {},
   "outputs": [
    {
     "data": {
      "text/plain": [
       "HAPPINESS_SCORE        0\n",
       "GDP_PER_CAPITA         0\n",
       "FAMILY               414\n",
       "LIFE_EXPECTANCY        0\n",
       "FREEDOM                0\n",
       "GENEROSITY             0\n",
       "GOVERNMENT_TRUST       0\n",
       "DYSTOPIA_RESIDUAL    276\n",
       "SOCIAL_SUPPORT       414\n",
       "dtype: int64"
      ]
     },
     "execution_count": 52,
     "metadata": {},
     "output_type": "execute_result"
    }
   ],
   "source": [
    "# Checking for missing values in the DataFrame\n",
    "Report.isnull().sum()"
   ]
  },
  {
   "cell_type": "code",
   "execution_count": 53,
   "id": "8d296a93",
   "metadata": {},
   "outputs": [
    {
     "data": {
      "text/html": [
       "<div>\n",
       "<style scoped>\n",
       "    .dataframe tbody tr th:only-of-type {\n",
       "        vertical-align: middle;\n",
       "    }\n",
       "\n",
       "    .dataframe tbody tr th {\n",
       "        vertical-align: top;\n",
       "    }\n",
       "\n",
       "    .dataframe thead th {\n",
       "        text-align: right;\n",
       "    }\n",
       "</style>\n",
       "<table border=\"1\" class=\"dataframe\">\n",
       "  <thead>\n",
       "    <tr style=\"text-align: right;\">\n",
       "      <th></th>\n",
       "      <th>HAPPINESS_SCORE</th>\n",
       "      <th>GDP_PER_CAPITA</th>\n",
       "      <th>FAMILY</th>\n",
       "      <th>LIFE_EXPECTANCY</th>\n",
       "      <th>FREEDOM</th>\n",
       "      <th>GENEROSITY</th>\n",
       "      <th>GOVERNMENT_TRUST</th>\n",
       "      <th>DYSTOPIA_RESIDUAL</th>\n",
       "      <th>SOCIAL_SUPPORT</th>\n",
       "    </tr>\n",
       "  </thead>\n",
       "  <tbody>\n",
       "    <tr>\n",
       "      <th>0</th>\n",
       "      <td>7.537</td>\n",
       "      <td>1.616463</td>\n",
       "      <td>1.533524</td>\n",
       "      <td>0.796667</td>\n",
       "      <td>0.635423</td>\n",
       "      <td>0.362012</td>\n",
       "      <td>0.315964</td>\n",
       "      <td>2.277027</td>\n",
       "      <td>NaN</td>\n",
       "    </tr>\n",
       "    <tr>\n",
       "      <th>1</th>\n",
       "      <td>7.522</td>\n",
       "      <td>1.482383</td>\n",
       "      <td>1.551122</td>\n",
       "      <td>0.792566</td>\n",
       "      <td>0.626007</td>\n",
       "      <td>0.355280</td>\n",
       "      <td>0.400770</td>\n",
       "      <td>2.313707</td>\n",
       "      <td>NaN</td>\n",
       "    </tr>\n",
       "    <tr>\n",
       "      <th>2</th>\n",
       "      <td>7.504</td>\n",
       "      <td>1.480633</td>\n",
       "      <td>1.610574</td>\n",
       "      <td>0.833552</td>\n",
       "      <td>0.627163</td>\n",
       "      <td>0.475540</td>\n",
       "      <td>0.153527</td>\n",
       "      <td>2.322715</td>\n",
       "      <td>NaN</td>\n",
       "    </tr>\n",
       "    <tr>\n",
       "      <th>3</th>\n",
       "      <td>7.494</td>\n",
       "      <td>1.564980</td>\n",
       "      <td>1.516912</td>\n",
       "      <td>0.858131</td>\n",
       "      <td>0.620071</td>\n",
       "      <td>0.290549</td>\n",
       "      <td>0.367007</td>\n",
       "      <td>2.276716</td>\n",
       "      <td>NaN</td>\n",
       "    </tr>\n",
       "    <tr>\n",
       "      <th>4</th>\n",
       "      <td>7.469</td>\n",
       "      <td>1.443572</td>\n",
       "      <td>1.540247</td>\n",
       "      <td>0.809158</td>\n",
       "      <td>0.617951</td>\n",
       "      <td>0.245483</td>\n",
       "      <td>0.382612</td>\n",
       "      <td>2.430182</td>\n",
       "      <td>NaN</td>\n",
       "    </tr>\n",
       "  </tbody>\n",
       "</table>\n",
       "</div>"
      ],
      "text/plain": [
       "   HAPPINESS_SCORE  GDP_PER_CAPITA    FAMILY  LIFE_EXPECTANCY   FREEDOM  \\\n",
       "0            7.537        1.616463  1.533524         0.796667  0.635423   \n",
       "1            7.522        1.482383  1.551122         0.792566  0.626007   \n",
       "2            7.504        1.480633  1.610574         0.833552  0.627163   \n",
       "3            7.494        1.564980  1.516912         0.858131  0.620071   \n",
       "4            7.469        1.443572  1.540247         0.809158  0.617951   \n",
       "\n",
       "   GENEROSITY  GOVERNMENT_TRUST  DYSTOPIA_RESIDUAL  SOCIAL_SUPPORT  \n",
       "0    0.362012          0.315964           2.277027             NaN  \n",
       "1    0.355280          0.400770           2.313707             NaN  \n",
       "2    0.475540          0.153527           2.322715             NaN  \n",
       "3    0.290549          0.367007           2.276716             NaN  \n",
       "4    0.245483          0.382612           2.430182             NaN  "
      ]
     },
     "execution_count": 53,
     "metadata": {},
     "output_type": "execute_result"
    }
   ],
   "source": [
    "# Print out header values of the dataset\n",
    "num_df = Report\n",
    "num_df.head()"
   ]
  },
  {
   "cell_type": "code",
   "execution_count": 54,
   "id": "d8af69c2",
   "metadata": {},
   "outputs": [],
   "source": [
    "# Save the Dataframe to a new CSV file to update data\n",
    "num_df.to_csv('new_combined_happiness_report_cleaned.csv', index = False)"
   ]
  },
  {
   "cell_type": "markdown",
   "id": "37b26fcf",
   "metadata": {},
   "source": [
    "## Linear Regression to fill in NULL values (FAMILY)"
   ]
  },
  {
   "cell_type": "code",
   "execution_count": 56,
   "id": "ce8f16a1",
   "metadata": {},
   "outputs": [
    {
     "name": "stdout",
     "output_type": "stream",
     "text": [
      "     HAPPINESS_SCORE  GDP_PER_CAPITA    FAMILY  LIFE_EXPECTANCY   FREEDOM  \\\n",
      "0             7.5370        1.616463  1.533524         0.796667  0.635423   \n",
      "1             7.5220        1.482383  1.551122         0.792566  0.626007   \n",
      "2             7.5040        1.480633  1.610574         0.833552  0.627163   \n",
      "3             7.4940        1.564980  1.516912         0.858131  0.620071   \n",
      "4             7.4690        1.443572  1.540247         0.809158  0.617951   \n",
      "..               ...             ...       ...              ...       ...   \n",
      "823           3.4789        0.997549  1.041802         0.494102  0.509089   \n",
      "824           3.4762        0.457163  0.908063         0.442678  0.509343   \n",
      "825           3.3123        0.343243  0.845626         0.572383  0.604088   \n",
      "826           3.2992        0.425564  0.882111         0.375038  0.377405   \n",
      "827           2.5669        0.300706  0.768374         0.266052  0.000000   \n",
      "\n",
      "     GENEROSITY  GOVERNMENT_TRUST  DYSTOPIA_RESIDUAL  SOCIAL_SUPPORT  \n",
      "0      0.362012          0.315964           2.277027             NaN  \n",
      "1      0.355280          0.400770           2.313707             NaN  \n",
      "2      0.475540          0.153527           2.322715             NaN  \n",
      "3      0.290549          0.367007           2.276716             NaN  \n",
      "4      0.245483          0.382612           2.430182             NaN  \n",
      "..          ...               ...                ...             ...  \n",
      "823    0.033407          0.101786           0.257241        1.085695  \n",
      "824    0.271541          0.203881           0.718963        0.872675  \n",
      "825    0.235705          0.485542           0.548445        0.522876  \n",
      "826    0.151349          0.080929           0.841031        1.047835  \n",
      "827    0.135235          0.001226           1.507236        0.356434  \n",
      "\n",
      "[828 rows x 9 columns]\n"
     ]
    }
   ],
   "source": [
    "import pandas as pd\n",
    "from sklearn.linear_model import LinearRegression\n",
    "from sklearn.model_selection import train_test_split\n",
    "from sklearn.impute import SimpleImputer\n",
    "\n",
    "# Load the data\n",
    "data = pd.read_csv('new_combined_happiness_report_cleaned.csv')\n",
    "\n",
    "# Separate the data into two dataframes\n",
    "data_missing = data[data['FAMILY'].isna()]\n",
    "data_complete = data\n",
    "\n",
    "# Impute missing values in the complete data using the mean of the column\n",
    "imputer = SimpleImputer()\n",
    "data_complete = pd.DataFrame(imputer.fit_transform(data_complete), columns=data_complete.columns)\n",
    "\n",
    "# Split the complete data into training and testing sets, using life expectancy, freedom, generosity, government trust and GDP per capita as predictors\n",
    "X = data_complete[['LIFE_EXPECTANCY', 'FREEDOM', 'GENEROSITY', 'GOVERNMENT_TRUST', 'GDP_PER_CAPITA']]\n",
    "y = data_complete['FAMILY']\n",
    "X_train, X_test, y_train, y_test = train_test_split(X, y, test_size=0.2, random_state=0)\n",
    "\n",
    "# Train the model\n",
    "regressor = LinearRegression()\n",
    "regressor.fit(X_train, y_train)\n",
    "\n",
    "# Impute missing values in the data_missing dataframe\n",
    "data_missing = pd.DataFrame(imputer.transform(data_missing), columns=data_missing.columns)\n",
    "\n",
    "# Predict the missing values of the 'family' variable\n",
    "X_missing = data_missing[['LIFE_EXPECTANCY','FREEDOM', 'GENEROSITY', 'GOVERNMENT_TRUST', 'GDP_PER_CAPITA']]\n",
    "y_missing_pred = regressor.predict(X_missing)\n",
    "\n",
    "# Replace the missing values in the original dataframe with the predicted values\n",
    "data.loc[data['FAMILY'].isna(), 'FAMILY'] = y_missing_pred\n",
    "\n",
    "# Print the new dataset with imputed missing values and predicted values\n",
    "print(data)"
   ]
  },
  {
   "cell_type": "code",
   "execution_count": 57,
   "id": "db9174cd",
   "metadata": {},
   "outputs": [
    {
     "data": {
      "text/plain": [
       "HAPPINESS_SCORE        0\n",
       "GDP_PER_CAPITA         0\n",
       "FAMILY                 0\n",
       "LIFE_EXPECTANCY        0\n",
       "FREEDOM                0\n",
       "GENEROSITY             0\n",
       "GOVERNMENT_TRUST       0\n",
       "DYSTOPIA_RESIDUAL    276\n",
       "SOCIAL_SUPPORT       414\n",
       "dtype: int64"
      ]
     },
     "execution_count": 57,
     "metadata": {},
     "output_type": "execute_result"
    }
   ],
   "source": [
    "# Check to ensure no more NULL values for Family\n",
    "data.isnull().sum()"
   ]
  },
  {
   "cell_type": "code",
   "execution_count": 58,
   "id": "d973787c",
   "metadata": {},
   "outputs": [],
   "source": [
    "# Save the dataset to a new CSV file to update data\n",
    "data.to_csv('new_data.csv', index = False)"
   ]
  },
  {
   "cell_type": "markdown",
   "id": "4540e197",
   "metadata": {},
   "source": [
    "## Linear Regression to fill in NULL values (SOCIAL_SUPPORT)"
   ]
  },
  {
   "cell_type": "code",
   "execution_count": 59,
   "id": "d60aefb7",
   "metadata": {},
   "outputs": [
    {
     "name": "stdout",
     "output_type": "stream",
     "text": [
      "     HAPPINESS_SCORE  GDP_PER_CAPITA    FAMILY  LIFE_EXPECTANCY   FREEDOM  \\\n",
      "0             7.5370        1.616463  1.533524         0.796667  0.635423   \n",
      "1             7.5220        1.482383  1.551122         0.792566  0.626007   \n",
      "2             7.5040        1.480633  1.610574         0.833552  0.627163   \n",
      "3             7.4940        1.564980  1.516912         0.858131  0.620071   \n",
      "4             7.4690        1.443572  1.540247         0.809158  0.617951   \n",
      "..               ...             ...       ...              ...       ...   \n",
      "823           3.4789        0.997549  1.041802         0.494102  0.509089   \n",
      "824           3.4762        0.457163  0.908063         0.442678  0.509343   \n",
      "825           3.3123        0.343243  0.845626         0.572383  0.604088   \n",
      "826           3.2992        0.425564  0.882111         0.375038  0.377405   \n",
      "827           2.5669        0.300706  0.768374         0.266052  0.000000   \n",
      "\n",
      "     GENEROSITY  GOVERNMENT_TRUST  DYSTOPIA_RESIDUAL  SOCIAL_SUPPORT  \n",
      "0      0.362012          0.315964           2.277027        1.367063  \n",
      "1      0.355280          0.400770           2.313707        1.323532  \n",
      "2      0.475540          0.153527           2.322715        1.384824  \n",
      "3      0.290549          0.367007           2.276716        1.349466  \n",
      "4      0.245483          0.382612           2.430182        1.315484  \n",
      "..          ...               ...                ...             ...  \n",
      "823    0.033407          0.101786           0.257241        1.085695  \n",
      "824    0.271541          0.203881           0.718963        0.872675  \n",
      "825    0.235705          0.485542           0.548445        0.522876  \n",
      "826    0.151349          0.080929           0.841031        1.047835  \n",
      "827    0.135235          0.001226           1.507236        0.356434  \n",
      "\n",
      "[828 rows x 9 columns]\n"
     ]
    }
   ],
   "source": [
    "import pandas as pd\n",
    "from sklearn.linear_model import LinearRegression\n",
    "from sklearn.model_selection import train_test_split\n",
    "from sklearn.impute import SimpleImputer\n",
    "\n",
    "# Load the data\n",
    "data = pd.read_csv('new_data.csv')\n",
    "\n",
    "# Separate the data into two dataframes\n",
    "data_missing = data[data['SOCIAL_SUPPORT'].isna()]\n",
    "data_complete = data\n",
    "\n",
    "# Impute missing values in the complete data using the mean of the column\n",
    "imputer = SimpleImputer()\n",
    "data_complete = pd.DataFrame(imputer.fit_transform(data_complete), columns=data_complete.columns)\n",
    "\n",
    "# Split the complete data into training and testing sets, using life expectancy, freedom, generosity, government trust and GDP per capita as predictors\n",
    "X = data_complete[['LIFE_EXPECTANCY', 'FREEDOM', 'GENEROSITY', 'GOVERNMENT_TRUST', 'GDP_PER_CAPITA']]\n",
    "y = data_complete['SOCIAL_SUPPORT']\n",
    "X_train, X_test, y_train, y_test = train_test_split(X, y, test_size=0.2, random_state=0)\n",
    "\n",
    "# Train the model\n",
    "regressor = LinearRegression()\n",
    "regressor.fit(X_train, y_train)\n",
    "\n",
    "# Impute missing values in the data_missing dataframe\n",
    "data_missing = pd.DataFrame(imputer.transform(data_missing), columns=data_missing.columns)\n",
    "\n",
    "# Predict the missing values of the 'social support'\n",
    "X_missing = data_missing[['LIFE_EXPECTANCY','FREEDOM', 'GENEROSITY', 'GOVERNMENT_TRUST', 'GDP_PER_CAPITA']]\n",
    "y_missing_pred = regressor.predict(X_missing)\n",
    "\n",
    "# Replace the missing values in the original dataframe with the predicted values\n",
    "data.loc[data['SOCIAL_SUPPORT'].isna(), 'SOCIAL_SUPPORT'] = y_missing_pred\n",
    "\n",
    "# Print the new dataset with imputed missing values and predicted values\n",
    "print(data)"
   ]
  },
  {
   "cell_type": "code",
   "execution_count": 60,
   "id": "dbd733d0",
   "metadata": {},
   "outputs": [
    {
     "data": {
      "text/plain": [
       "HAPPINESS_SCORE        0\n",
       "GDP_PER_CAPITA         0\n",
       "FAMILY                 0\n",
       "LIFE_EXPECTANCY        0\n",
       "FREEDOM                0\n",
       "GENEROSITY             0\n",
       "GOVERNMENT_TRUST       0\n",
       "DYSTOPIA_RESIDUAL    276\n",
       "SOCIAL_SUPPORT         0\n",
       "dtype: int64"
      ]
     },
     "execution_count": 60,
     "metadata": {},
     "output_type": "execute_result"
    }
   ],
   "source": [
    "# Check to ensure no more NULL values for Social Support\n",
    "data.isnull().sum()"
   ]
  },
  {
   "cell_type": "code",
   "execution_count": 61,
   "id": "e8009d45",
   "metadata": {},
   "outputs": [],
   "source": [
    "# Save the dataset to a new CSV file to update data\n",
    "data.to_csv('v2_dataset.csv', index = False)"
   ]
  },
  {
   "cell_type": "markdown",
   "id": "edf3ee11",
   "metadata": {},
   "source": [
    "## Linear Regression to fill in NULL values (DYSTOPIA_RESIDUAL)"
   ]
  },
  {
   "cell_type": "code",
   "execution_count": 62,
   "id": "6b196975",
   "metadata": {},
   "outputs": [
    {
     "name": "stdout",
     "output_type": "stream",
     "text": [
      "     HAPPINESS_SCORE  GDP_PER_CAPITA    FAMILY  LIFE_EXPECTANCY   FREEDOM  \\\n",
      "0             7.5370        1.616463  1.533524         0.796667  0.635423   \n",
      "1             7.5220        1.482383  1.551122         0.792566  0.626007   \n",
      "2             7.5040        1.480633  1.610574         0.833552  0.627163   \n",
      "3             7.4940        1.564980  1.516912         0.858131  0.620071   \n",
      "4             7.4690        1.443572  1.540247         0.809158  0.617951   \n",
      "..               ...             ...       ...              ...       ...   \n",
      "823           3.4789        0.997549  1.041802         0.494102  0.509089   \n",
      "824           3.4762        0.457163  0.908063         0.442678  0.509343   \n",
      "825           3.3123        0.343243  0.845626         0.572383  0.604088   \n",
      "826           3.2992        0.425564  0.882111         0.375038  0.377405   \n",
      "827           2.5669        0.300706  0.768374         0.266052  0.000000   \n",
      "\n",
      "     GENEROSITY  GOVERNMENT_TRUST  DYSTOPIA_RESIDUAL  SOCIAL_SUPPORT  \n",
      "0      0.362012          0.315964           2.277027        1.367063  \n",
      "1      0.355280          0.400770           2.313707        1.323532  \n",
      "2      0.475540          0.153527           2.322715        1.384824  \n",
      "3      0.290549          0.367007           2.276716        1.349466  \n",
      "4      0.245483          0.382612           2.430182        1.315484  \n",
      "..          ...               ...                ...             ...  \n",
      "823    0.033407          0.101786           0.257241        1.085695  \n",
      "824    0.271541          0.203881           0.718963        0.872675  \n",
      "825    0.235705          0.485542           0.548445        0.522876  \n",
      "826    0.151349          0.080929           0.841031        1.047835  \n",
      "827    0.135235          0.001226           1.507236        0.356434  \n",
      "\n",
      "[828 rows x 9 columns]\n"
     ]
    }
   ],
   "source": [
    "import pandas as pd\n",
    "from sklearn.linear_model import LinearRegression\n",
    "from sklearn.model_selection import train_test_split\n",
    "from sklearn.impute import SimpleImputer\n",
    "\n",
    "# Load the data\n",
    "data = pd.read_csv('v2_dataset.csv')\n",
    "\n",
    "# Separate the data into two dataframes\n",
    "data_missing = data[data['DYSTOPIA_RESIDUAL'].isna()]\n",
    "data_complete = data\n",
    "\n",
    "# Impute missing values in the complete data using the mean of the column\n",
    "imputer = SimpleImputer()\n",
    "data_complete = pd.DataFrame(imputer.fit_transform(data_complete), columns=data_complete.columns)\n",
    "\n",
    "# Split the complete data into training and testing sets, using life expectancy, freedom, generosity, government trust and GDP per capita as predictors\n",
    "X = data_complete[['LIFE_EXPECTANCY', 'FREEDOM', 'GENEROSITY', 'GOVERNMENT_TRUST', 'GDP_PER_CAPITA']]\n",
    "y = data_complete['DYSTOPIA_RESIDUAL']\n",
    "X_train, X_test, y_train, y_test = train_test_split(X, y, test_size=0.2, random_state=0)\n",
    "\n",
    "# Train the model\n",
    "regressor = LinearRegression()\n",
    "regressor.fit(X_train, y_train)\n",
    "\n",
    "# Impute missing values in the data_missing dataframe\n",
    "data_missing = pd.DataFrame(imputer.transform(data_missing), columns=data_missing.columns)\n",
    "\n",
    "# Predict the missing values of the 'dystopia residual' variable\n",
    "X_missing = data_missing[['LIFE_EXPECTANCY','FREEDOM', 'GENEROSITY', 'GOVERNMENT_TRUST', 'GDP_PER_CAPITA']]\n",
    "y_missing_pred = regressor.predict(X_missing)\n",
    "\n",
    "# Replace the missing values in the original dataframe with the predicted values\n",
    "data.loc[data['DYSTOPIA_RESIDUAL'].isna(), 'DYSTOPIA_RESIDUAL'] = y_missing_pred\n",
    "\n",
    "# Print the new dataset with imputed missing values and predicted values\n",
    "print(data)"
   ]
  },
  {
   "cell_type": "code",
   "execution_count": 63,
   "id": "e0d59710",
   "metadata": {},
   "outputs": [
    {
     "data": {
      "text/plain": [
       "HAPPINESS_SCORE      0\n",
       "GDP_PER_CAPITA       0\n",
       "FAMILY               0\n",
       "LIFE_EXPECTANCY      0\n",
       "FREEDOM              0\n",
       "GENEROSITY           0\n",
       "GOVERNMENT_TRUST     0\n",
       "DYSTOPIA_RESIDUAL    0\n",
       "SOCIAL_SUPPORT       0\n",
       "dtype: int64"
      ]
     },
     "execution_count": 63,
     "metadata": {},
     "output_type": "execute_result"
    }
   ],
   "source": [
    "# Check to ensure no more NULL values for Dystopia Residual\n",
    "data.isnull().sum()"
   ]
  },
  {
   "cell_type": "code",
   "execution_count": 64,
   "id": "70be2d97",
   "metadata": {},
   "outputs": [],
   "source": [
    "# Save the dataset to a new CSV file to update data\n",
    "data.to_csv('final_version_dataset.csv', index = False)"
   ]
  },
  {
   "cell_type": "code",
   "execution_count": null,
   "id": "e2810b6f",
   "metadata": {},
   "outputs": [],
   "source": []
  },
  {
   "cell_type": "code",
   "execution_count": null,
   "id": "e13b8f54",
   "metadata": {},
   "outputs": [],
   "source": []
  }
 ],
 "metadata": {
  "kernelspec": {
   "display_name": "Python 3 (ipykernel)",
   "language": "python",
   "name": "python3"
  },
  "language_info": {
   "codemirror_mode": {
    "name": "ipython",
    "version": 3
   },
   "file_extension": ".py",
   "mimetype": "text/x-python",
   "name": "python",
   "nbconvert_exporter": "python",
   "pygments_lexer": "ipython3",
   "version": "3.9.12"
  }
 },
 "nbformat": 4,
 "nbformat_minor": 5
}
